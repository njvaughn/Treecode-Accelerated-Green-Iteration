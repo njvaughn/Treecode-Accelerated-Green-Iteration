{
 "cells": [
  {
   "cell_type": "code",
   "execution_count": 5,
   "metadata": {},
   "outputs": [],
   "source": [
    "## Imports\n",
    "import numpy as np\n",
    "%matplotlib inline\n",
    "import matplotlib.pyplot as plt\n",
    "import upf_to_json \n",
    "\n",
    "## Another option is to use xmltodict and do much of the conversion myself.  Not sure which is better...\n",
    "\n",
    "# import xmltodict\n",
    "# XMLfile=\"/Users/nathanvaughn/Desktop/sg15_oncv_xml_2018-06-25/Mg_ONCV_PBE-1.2.xml\"\n",
    "# xml_str = open(XMLfile, 'r').read()\n",
    "# xdict = xmltodict.parse(xml_str)\n",
    "# psp = xdict['fpmd:species']['norm_conserving_semilocal_pseudopotential']\n",
    "# psp.keys()\n",
    "# strlist = psp['local_potential']['#text'].split()\n",
    "# psp['local_potential']['f_local_potential'] = np.zeros(len(strlist))\n",
    "# for i in range(len(strlist)):\n",
    "#     psp['local_potential']['f_local_potential'][i] = float(psp['local_potential']['#text'].split()[i])\n",
    "# psp['local_potential']['f_local_potential'][0]\n",
    "## and so on....\n",
    "\n",
    "\n",
    "\n",
    "atomicNumber=4\n",
    "pspFile  = \"/Users/nathanvaughn/Desktop/ONCV_PSPs_Z/\"+str(atomicNumber)+\"_ONCV_PBE-1.0.upf\"\n",
    "# pspFile  = \"/Users/nathanvaughn/Desktop/N_ONCV_PBE-1.0.upf\"\n",
    "upf_str = open(pspFile, 'r').read()\n"
   ]
  },
  {
   "cell_type": "code",
   "execution_count": 2,
   "metadata": {},
   "outputs": [],
   "source": [
    "psp_temp = upf_to_json.upf_to_json(upf_str, pspFile)\n",
    "psp = psp_temp['pseudo_potential']"
   ]
  },
  {
   "cell_type": "code",
   "execution_count": 3,
   "metadata": {
    "scrolled": true
   },
   "outputs": [],
   "source": [
    "# psp.keys()\n",
    "psp.items();"
   ]
  },
  {
   "cell_type": "code",
   "execution_count": 4,
   "metadata": {
    "scrolled": true
   },
   "outputs": [
    {
     "name": "stdout",
     "output_type": "stream",
     "text": [
      "<class 'dict'>\n",
      "dict_keys(['header', 'radial_grid', 'local_potential', 'beta_projectors', 'D_ion', 'atomic_wave_functions', 'total_charge_density'])\n"
     ]
    }
   ],
   "source": [
    "print(type(psp))\n",
    "print(psp.keys())"
   ]
  },
  {
   "cell_type": "code",
   "execution_count": 6,
   "metadata": {
    "scrolled": true
   },
   "outputs": [
    {
     "data": {
      "text/plain": [
       "{'number_of_proj': 4,\n",
       " 'core_correction': False,\n",
       " 'element': 'Be',\n",
       " 'pseudo_type': 'NC',\n",
       " 'z_valence': 4.0,\n",
       " 'mesh_size': 602,\n",
       " 'is_ultrasoft': False,\n",
       " 'number_of_wfc': 0,\n",
       " 'spin_orbit': False,\n",
       " 'original_upf_file': '/Users/nathanvaughn/Desktop/ONCV_PSPs_Z/4_ONCV_PBE-1.0.upf'}"
      ]
     },
     "execution_count": 6,
     "metadata": {},
     "output_type": "execute_result"
    }
   ],
   "source": [
    "psp['header']"
   ]
  },
  {
   "cell_type": "code",
   "execution_count": 441,
   "metadata": {},
   "outputs": [
    {
     "name": "stdout",
     "output_type": "stream",
     "text": [
      "<class 'list'>\n",
      "<class 'list'>\n",
      "<class 'list'>\n",
      "<class 'list'>\n",
      "<class 'list'>\n",
      "<class 'list'>\n"
     ]
    },
    {
     "data": {
      "text/plain": [
       "64"
      ]
     },
     "execution_count": 441,
     "metadata": {},
     "output_type": "execute_result"
    }
   ],
   "source": [
    "print(type(psp['radial_grid']))\n",
    "print(type(psp['local_potential']))\n",
    "print(type(psp['beta_projectors']))\n",
    "print(type(psp['D_ion']))\n",
    "print(type(psp['atomic_wave_functions']))\n",
    "print(type(psp['total_charge_density']))\n",
    "\n"
   ]
  },
  {
   "cell_type": "code",
   "execution_count": 461,
   "metadata": {},
   "outputs": [
    {
     "data": {
      "text/plain": [
       "array([ 2.35815796,  0.31688519,  1.66916504,  0.25052161, -3.9905705 ,\n",
       "       -1.46967413, -2.29310405, -0.41598724])"
      ]
     },
     "execution_count": 461,
     "metadata": {},
     "output_type": "execute_result"
    }
   ],
   "source": [
    "np.array(psp['D_ion'][::psp['header']['number_of_proj']+1])"
   ]
  },
  {
   "cell_type": "code",
   "execution_count": 347,
   "metadata": {},
   "outputs": [
    {
     "data": {
      "text/plain": [
       "float"
      ]
     },
     "execution_count": 347,
     "metadata": {},
     "output_type": "execute_result"
    }
   ],
   "source": [
    "type(psp['header']['z_valence'])"
   ]
  },
  {
   "cell_type": "code",
   "execution_count": 348,
   "metadata": {
    "scrolled": true
   },
   "outputs": [
    {
     "name": "stdout",
     "output_type": "stream",
     "text": [
      "beta projector 0, angular momentum=0.\n",
      "372\n",
      "beta projector 1, angular momentum=0.\n",
      "372\n",
      "beta projector 2, angular momentum=1.\n",
      "372\n",
      "beta projector 3, angular momentum=1.\n",
      "372\n",
      "beta projector 4, angular momentum=2.\n",
      "372\n",
      "beta projector 5, angular momentum=2.\n",
      "372\n",
      "beta projector 6, angular momentum=3.\n",
      "372\n",
      "beta projector 7, angular momentum=3.\n",
      "372\n"
     ]
    }
   ],
   "source": [
    "psp['local_potential'];\n",
    "for i in range(psp['header']['number_of_proj']):\n",
    "    print(\"beta projector %i, angular momentum=%i.\" %(i,psp['beta_projectors'][i]['angular_momentum']))\n",
    "    print(len(psp['beta_projectors'][i]['radial_function']))\n",
    "    \n",
    "# psp['beta_projectors'][0]"
   ]
  },
  {
   "cell_type": "code",
   "execution_count": 7,
   "metadata": {},
   "outputs": [
    {
     "name": "stdout",
     "output_type": "stream",
     "text": [
      "[0.   0.01 0.02 0.03 0.04]\n",
      "[0.03023558 0.02989508 0.02955824 0.02922503]\n"
     ]
    },
    {
     "data": {
      "image/png": "[encoded data removed]",
      "text/plain": [
       "<Figure size 432x288 with 1 Axes>"
      ]
     },
     "metadata": {
      "needs_background": "light"
     },
     "output_type": "display_data"
    }
   ],
   "source": [
    "r = np.array(psp['radial_grid'])\n",
    "print(r[0:5])\n",
    "density = np.array(psp['total_charge_density'])\n",
    "print(density[-5:-1])\n",
    "local_potential = psp['local_potential']\n",
    "\n",
    "plt.figure()\n",
    "plt.title(\"ONCV Radial Charge and Local Potential -- Nitrogen\")\n",
    "plt.plot(r,density,'r-', label='Total Charge Density')\n",
    "plt.plot(r,local_potential,'b-',label='Local Potential')\n",
    "plt.xlabel('radius (Bohr)')\n",
    "plt.legend()\n",
    "plt.show()"
   ]
  },
  {
   "cell_type": "code",
   "execution_count": 10,
   "metadata": {},
   "outputs": [
    {
     "name": "stderr",
     "output_type": "stream",
     "text": [
      "/Users/nathanvaughn/anaconda3/lib/python3.6/site-packages/ipykernel_launcher.py:11: RuntimeWarning: invalid value encountered in true_divide\n",
      "  # This is added back by InteractiveShellApp.init_path()\n"
     ]
    },
    {
     "data": {
      "image/png": "[encoded data removed]",
      "text/plain": [
       "<Figure size 432x288 with 1 Axes>"
      ]
     },
     "metadata": {
      "needs_background": "light"
     },
     "output_type": "display_data"
    }
   ],
   "source": [
    "r = np.array(psp['radial_grid'])\n",
    "\n",
    "# beta(i): projector riβ(ri) (note the factor r!)\n",
    "\n",
    "plt.figure()\n",
    "plt.title(\"ONCV Radial Projectors\")\n",
    "plt.xlabel('radius (Bohr)')\n",
    "for i in range(psp['header']['number_of_proj']):\n",
    "    length = len(psp['beta_projectors'][i]['radial_function'])\n",
    "    projector = np.array(psp['beta_projectors'][i]['radial_function'])\n",
    "    plt.plot(r[:length],psp['beta_projectors'][i]['radial_function']/r[:length], label=\"projector %i, angular momentum %i\" %(i,psp['beta_projectors'][i]['angular_momentum']))\n",
    "#     plt.plot(r[:length],psp['beta_projectors'][i]['radial_function']/r[:length], label=\"projector %i, angular momentum %i\" %(i,psp['beta_projectors'][i]['angular_momentum']))\n",
    "plt.legend()\n",
    "plt.show()\n",
    "\n"
   ]
  },
  {
   "cell_type": "code",
   "execution_count": 255,
   "metadata": {},
   "outputs": [],
   "source": [
    "psp['D_ion'];"
   ]
  },
  {
   "cell_type": "code",
   "execution_count": 480,
   "metadata": {
    "code_folding": [
     33,
     37,
     42,
     52,
     70
    ]
   },
   "outputs": [],
   "source": [
    "'''\n",
    "@author: nathanvaughn\n",
    "'''\n",
    "import numpy as np\n",
    "from scipy.interpolate import InterpolatedUnivariateSpline\n",
    "from scipy.special import erf\n",
    "import os\n",
    "\n",
    "\n",
    "class ONCV_PSP(object):\n",
    "    '''\n",
    "    The ONCV Pseudopotential object.  Will contain the interpolators needed for the nonlocal potential,\n",
    "    the density initialization, etc.\n",
    "    '''\n",
    "    def __init__(self,atomicNumber):\n",
    "        '''\n",
    "        PSP Constructor\n",
    "        '''\n",
    "        self.atomicNumber=atomicNumber\n",
    "        pspFile = \"/Users/nathanvaughn/Desktop/ONCV_PSPs_Z/\"+str(atomicNumber)+\"_ONCV_PBE-1.0.upf\"\n",
    "        upf_str = open(pspFile, 'r').read()\n",
    "        psp_temp = upf_to_json.upf_to_json(upf_str, pspFile)\n",
    "        self.psp = psp_temp['pseudo_potential']\n",
    "        self.setProjectorInterpolators()\n",
    "        self.setDensityInterpolator()\n",
    "        self.setLocalPotentialInterpolator()\n",
    "        \n",
    "    def setDensityInterpolator(self,verbose=0):\n",
    "        r = np.array(self.psp['radial_grid'])\n",
    "        density = np.array(self.psp['total_charge_density'])\n",
    "        ## Is it okay to set the boundary condition to zero?  \n",
    "        self.densityInterpolator = InterpolatedUnivariateSpline(r,density,k=3,ext='zeros')\n",
    "        \n",
    "    def evaluateDensityInterpolator(self,r):\n",
    "        # if zeroes are okay for the extrapolation, then this is okay.  If not, then need to wrap in try/except.\n",
    "        return self.densityInterpolator(r)\n",
    "        \n",
    "    def setLocalPotentialInterpolator(self,verbose=0):\n",
    "        r = np.array(self.psp['radial_grid'])\n",
    "        local_potential = np.array(self.psp['local_potential'])\n",
    "        self.localPotentialInterpolator = InterpolatedUnivariateSpline(r,local_potential,k=3,ext='raise')\n",
    "    \n",
    "    def evaluateLocalPotentialInterpolator(self,r):\n",
    "        nr=len(r)\n",
    "        Vloc = np.zeros(nr)\n",
    "        for i in range(nr):\n",
    "            try:\n",
    "                Vloc[i] = self.localPotentialInterpolator(r[i])\n",
    "            except ValueError:\n",
    "                Vloc[i] = -self.psp['header']['z_valence']/r[i]\n",
    "        return Vloc\n",
    "        \n",
    "    def setProjectorInterpolators(self,verbose=0):\n",
    "        \n",
    "        self.projectorInterpolators = {}\n",
    "        r = np.array(self.psp['radial_grid'])\n",
    "        if verbose>0: \n",
    "            print(\"Number of porjectors: \", self.psp['header']['number_of_proj'])\n",
    "            \n",
    "        for i in range(self.psp['header']['number_of_proj']):\n",
    "            \n",
    "            if verbose>0: \n",
    "                print(\"Creating interpolator for projector %i with angular momentum %i\" %(i,self.psp['beta_projectors'][i]['angular_momentum']))\n",
    "            \n",
    "            proj = np.array(self.psp['beta_projectors'][i]['radial_function'])\n",
    "            length_of_projector_data = len(proj)\n",
    "            \n",
    "            self.projectorInterpolators[str(i)] = InterpolatedUnivariateSpline(r[:length_of_projector_data],proj,k=3,ext='zeros')\n",
    "        return\n",
    "    \n",
    "    def evaluateProjectorInterpolator(self,idx,r):\n",
    "        # if zeroes are okay for the extrapolation, then this is okay.  If not, then need to wrap in try/except.\n",
    "        return self.projectorInterpolators[str(idx)](r)\n",
    "   \n",
    "    def plotProjectors(self):\n",
    "        \n",
    "        r = np.array(self.psp['radial_grid'])\n",
    "        plt.figure()\n",
    "        for i in range(self.psp['header']['number_of_proj']):\n",
    "            proj = np.array(self.psp['beta_projectors'][i]['radial_function'])\n",
    "            length_of_projector_data = len(proj)\n",
    "            plt.plot(r[:length_of_projector_data], proj,'.',label=\"projector data %i\" %i)\n",
    "            plt.title(\"ONCV Projector Data\")\n",
    "            \n",
    "            \n",
    "        r = np.array(self.psp['radial_grid'])\n",
    "        plt.figure()\n",
    "        for i in range(self.psp['header']['number_of_proj']):\n",
    "            proj = np.array(self.psp['beta_projectors'][i]['radial_function'])\n",
    "            length_of_projector_data = len(proj)\n",
    "            rmax = r[length_of_projector_data]\n",
    "            \n",
    "            rInterp = np.linspace(0,rmax,1000)\n",
    "            plt.plot(rInterp,self.evaluateProjectorInterpolator(i,rInterp),label=\"projector %i\" %i)\n",
    "        plt.title(\"Projector Cubic Spline Interpolators\")\n",
    "#         plt.legend()\n",
    "        \n",
    "        plt.show()\n",
    "        \n",
    "    def plotDensity(self):\n",
    "        r = np.array(self.psp['radial_grid'])\n",
    "        density = np.array(self.psp['total_charge_density'])\n",
    "        rInterp = np.linspace(0,2*r[-1],1000)\n",
    "        plt.figure()\n",
    "        plt.plot(r,density,'r.',label=\"ONCV Data\")\n",
    "        plt.plot(rInterp, self.evaluateDensityInterpolator(rInterp), 'b-', label=\"Interpolation\")\n",
    "        plt.legend()\n",
    "        plt.title(\"Density\")\n",
    "        plt.show()\n",
    "        \n",
    "    def plotLocalPotential(self,ylims=[-1.2, -10, -100]):\n",
    "        r = np.array(self.psp['radial_grid'])\n",
    "        local_potential = np.array(self.psp['local_potential'])\n",
    "        rInterp = np.linspace(0,1.5*r[-1],5000)\n",
    "        Vfarfield = -self.psp['header']['z_valence']/rInterp[1:]\n",
    "        V_all_electron = -self.atomicNumber/rInterp[1:]\n",
    "        VlocInterp = self.evaluateLocalPotentialInterpolator(rInterp)\n",
    "        \n",
    "        for ylimfactor in ylims:\n",
    "            plt.figure()\n",
    "            plt.plot(rInterp[1:], V_all_electron, 'r-', label=\"-Z/r\")\n",
    "            plt.plot(rInterp[1:], Vfarfield, 'g-', label=\"-Zvalence/r\")\n",
    "            plt.plot(r,local_potential,'c.',label=\"ONCV Data\")\n",
    "            plt.plot(rInterp, VlocInterp, 'b--', label=\"Interpolation\")\n",
    "            plt.legend()\n",
    "            plt.title(\"Local Potential\")\n",
    "            plt.ylim([-ylimfactor*np.min(local_potential),2])\n",
    "            plt.show()"
   ]
  },
  {
   "cell_type": "code",
   "execution_count": 485,
   "metadata": {},
   "outputs": [
    {
     "name": "stdout",
     "output_type": "stream",
     "text": [
      "{'number_of_proj': 4, 'core_correction': False, 'element': 'N', 'pseudo_type': 'NC', 'z_valence': 5.0, 'mesh_size': 602, 'is_ultrasoft': False, 'number_of_wfc': 0, 'spin_orbit': False, 'original_upf_file': '/Users/nathanvaughn/Desktop/ONCV_PSPs_Z/5_ONCV_PBE-1.0.upf'}\n",
      "[[0.95348011 0.514296  ]\n",
      " [0.29727969 0.5147809 ]\n",
      " [0.73079886 0.87212649]\n",
      " [0.64108389 0.55525138]\n",
      " [0.41764959 0.67541773]\n",
      " [0.86126137 0.8928384 ]\n",
      " [0.36891812 0.658769  ]\n",
      " [0.07562191 0.55244902]\n",
      " [0.14916169 0.82539704]\n",
      " [0.55993568 0.66443357]]\n"
     ]
    },
    {
     "data": {
      "text/plain": [
       "array([[ 0.3123754 , -1.08161245],\n",
       "       [-1.69173658, -1.07892325],\n",
       "       [ 0.06451176,  0.34278247],\n",
       "       [-0.35179836, -0.84672924],\n",
       "       [-1.52971068, -0.17441233],\n",
       "       [ 0.33802738,  0.34535461],\n",
       "       [-1.65886385, -0.25808633],\n",
       "       [-0.61933967, -0.86315739],\n",
       "       [-1.14044083,  0.30399313],\n",
       "       [-0.81920887, -0.22908651]])"
      ]
     },
     "execution_count": 485,
     "metadata": {},
     "output_type": "execute_result"
    }
   ],
   "source": [
    "psp=None\n",
    "proj=None\n",
    "density=None\n",
    "BismuthPSP = ONCV_PSP(5)\n",
    "print(BismuthPSP.psp['header'])\n",
    "# BismuthPSP.plotProjectors()\n",
    "# BismuthPSP.plotDensity()\n",
    "# BismuthPSP.plotLocalPotential(ylims=[-1.2])\n",
    "\n",
    "r = np.random.rand(10,2)\n",
    "print(r)\n",
    "BismuthPSP.evaluateProjectorInterpolator(0,r)\n",
    "\n",
    "\n"
   ]
  },
  {
   "cell_type": "code",
   "execution_count": 267,
   "metadata": {},
   "outputs": [
    {
     "data": {
      "image/png": "[encoded data removed]",
      "text/plain": [
       "<Figure size 432x288 with 1 Axes>"
      ]
     },
     "metadata": {
      "needs_background": "light"
     },
     "output_type": "display_data"
    },
    {
     "data": {
      "image/png": "[encoded data removed]",
      "text/plain": [
       "<Figure size 432x288 with 1 Axes>"
      ]
     },
     "metadata": {
      "needs_background": "light"
     },
     "output_type": "display_data"
    }
   ],
   "source": [
    "CarbonPSP = ONCV_PSP(6)\n",
    "CarbonPSP.psp['header']\n",
    "CarbonPSP.plotProjectorData()\n",
    "CarbonPSP.plotProjectorInterpolators()"
   ]
  },
  {
   "cell_type": "code",
   "execution_count": 235,
   "metadata": {},
   "outputs": [
    {
     "data": {
      "text/plain": [
       "{'number_of_proj': 4,\n",
       " 'core_correction': False,\n",
       " 'element': 'O',\n",
       " 'pseudo_type': 'NC',\n",
       " 'z_valence': 6.0,\n",
       " 'mesh_size': 602,\n",
       " 'is_ultrasoft': False,\n",
       " 'number_of_wfc': 0,\n",
       " 'spin_orbit': False,\n",
       " 'original_upf_file': '/Users/nathanvaughn/Desktop/ONCV_PSPs_Z/8_ONCV_PBE-1.0.upf'}"
      ]
     },
     "execution_count": 235,
     "metadata": {},
     "output_type": "execute_result"
    }
   ],
   "source": [
    "OxygenPSP = ONCV_PSP(8)\n",
    "OxygenPSP.psp['header']"
   ]
  },
  {
   "cell_type": "code",
   "execution_count": 181,
   "metadata": {
    "scrolled": false
   },
   "outputs": [
    {
     "data": {
      "text/plain": [
       "{'number_of_proj': 8,\n",
       " 'core_correction': False,\n",
       " 'element': 'Bi',\n",
       " 'pseudo_type': 'NC',\n",
       " 'z_valence': 15.0,\n",
       " 'mesh_size': 602,\n",
       " 'is_ultrasoft': False,\n",
       " 'number_of_wfc': 0,\n",
       " 'spin_orbit': False,\n",
       " 'original_upf_file': '/Users/nathanvaughn/Desktop/ONCV_PSPs_Z/83_ONCV_PBE-1.0.upf'}"
      ]
     },
     "execution_count": 181,
     "metadata": {},
     "output_type": "execute_result"
    }
   ],
   "source": [
    "BismuthPSP.psp['header']"
   ]
  },
  {
   "cell_type": "code",
   "execution_count": 470,
   "metadata": {},
   "outputs": [
    {
     "data": {
      "text/plain": [
       "[-8.9050043865,\n",
       " 0.0,\n",
       " 0.0,\n",
       " 0.0,\n",
       " 0.0,\n",
       " -2.3940066666,\n",
       " 0.0,\n",
       " 0.0,\n",
       " 0.0,\n",
       " 0.0,\n",
       " -5.0514343985,\n",
       " 0.0,\n",
       " 0.0,\n",
       " 0.0,\n",
       " 0.0,\n",
       " -0.7360046472]"
      ]
     },
     "execution_count": 470,
     "metadata": {},
     "output_type": "execute_result"
    }
   ],
   "source": [
    "BismuthPSP.psp['D_ion']"
   ]
  },
  {
   "cell_type": "code",
   "execution_count": null,
   "metadata": {},
   "outputs": [],
   "source": []
  }
 ],
 "metadata": {
  "kernelspec": {
   "display_name": "Python 3",
   "language": "python",
   "name": "python3"
  },
  "language_info": {
   "codemirror_mode": {
    "name": "ipython",
    "version": 3
   },
   "file_extension": ".py",
   "mimetype": "text/x-python",
   "name": "python",
   "nbconvert_exporter": "python",
   "pygments_lexer": "ipython3",
   "version": "3.6.8"
  }
 },
 "nbformat": 4,
 "nbformat_minor": 2
}
