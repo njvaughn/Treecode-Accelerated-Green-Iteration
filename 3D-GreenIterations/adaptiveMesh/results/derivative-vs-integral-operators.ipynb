{
 "cells": [
  {
   "cell_type": "code",
   "execution_count": 1,
   "metadata": {},
   "outputs": [],
   "source": [
    "import numpy as np\n"
   ]
  },
  {
   "cell_type": "code",
   "execution_count": 16,
   "metadata": {},
   "outputs": [
    {
     "name": "stdout",
     "output_type": "stream",
     "text": [
      "L2 error of D0 0.01418020086517212\n",
      "L2 error of D1 0.023372245451306322\n",
      "L2 error of D2 0.05541249423559969\n"
     ]
    }
   ],
   "source": [
    "## Decaying exponential example\n",
    "\n",
    "x = np.linspace(0,1,100)\n",
    "y1 = np.exp(-abs(x))\n",
    "y2 = np.exp(-abs(x)*1.005)\n",
    "L2errD0 = np.sqrt(np.sum((y1-y2)**2))\n",
    "\n",
    "y1D = -y1\n",
    "y2D = -1.005*y2\n",
    "L2errD1 = np.sqrt(np.sum((y1D-y2D)**2))\n",
    "\n",
    "y1D2 = -y1D\n",
    "y2D2 = -1.005*y2D\n",
    "L2errD2 = np.sqrt(np.sum((y1D2-y2D2)**2))\n",
    "\n",
    "print('L2 error of D0', L2errD0)\n",
    "print('L2 error of D1', L2errD1)\n",
    "print('L2 error of D2', L2errD2)"
   ]
  },
  {
   "cell_type": "code",
   "execution_count": 34,
   "metadata": {},
   "outputs": [
    {
     "name": "stdout",
     "output_type": "stream",
     "text": [
      "Amplitude:  0.01\n",
      "Frequency:  0.0001\n",
      "L2 error of D0 5.788063876103268e-06\n",
      "L2 error of D1 5.788063876297793e-06\n",
      "L2 error of I1 4.999999987376214e-07\n",
      "D1/D0:  1.0000000000336078\n",
      "I1/D0:  0.08638467187653763\n"
     ]
    }
   ],
   "source": [
    "## Sinusoidal perturbation.  Test high frequency and low frequency on differential and integral operator.\n",
    "\n",
    "A = 0.01\n",
    "B = 0.0001\n",
    "x = np.linspace(0,1,100)\n",
    "y1 = np.exp(-abs(x))\n",
    "y2 = np.exp(-abs(x)) + A*np.sin(B*x)\n",
    "L2errD0 = np.sqrt(np.sum((y1-y2)**2))\n",
    "\n",
    "y1D = -y1\n",
    "y2D = -y2 + A*B*np.cos(B*x)\n",
    "L2errD1 = np.sqrt(np.sum((y1D-y2D)**2))\n",
    "\n",
    "y1I = -np.exp(-1) - -np.exp(0)\n",
    "y2I = -np.exp(-1) - -np.exp(0)  +  ( -A/B*np.cos(B*1) - -A/B*np.cos(0) )\n",
    "L2errI1 = np.sqrt(np.sum((y1I-y2I)**2))\n",
    "\n",
    "print('Amplitude: ', A)\n",
    "print('Frequency: ', B)\n",
    "print('L2 error of D0', L2errD0)\n",
    "print('L2 error of D1', L2errD1)\n",
    "print('L2 error of I1', L2errI1)\n",
    "\n",
    "print('D1/D0: ', L2errD1/L2errD0)\n",
    "print('I1/D0: ', L2errI1/L2errD0)"
   ]
  },
  {
   "cell_type": "code",
   "execution_count": null,
   "metadata": {},
   "outputs": [],
   "source": []
  }
 ],
 "metadata": {
  "kernelspec": {
   "display_name": "Python 3",
   "language": "python",
   "name": "python3"
  },
  "language_info": {
   "codemirror_mode": {
    "name": "ipython",
    "version": 3
   },
   "file_extension": ".py",
   "mimetype": "text/x-python",
   "name": "python",
   "nbconvert_exporter": "python",
   "pygments_lexer": "ipython3",
   "version": "3.6.8"
  }
 },
 "nbformat": 4,
 "nbformat_minor": 2
}
