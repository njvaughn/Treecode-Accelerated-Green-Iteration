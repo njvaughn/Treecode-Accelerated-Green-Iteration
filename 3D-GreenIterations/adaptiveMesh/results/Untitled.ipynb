{
 "cells": [
  {
   "cell_type": "code",
   "execution_count": 47,
   "metadata": {},
   "outputs": [
    {
     "name": "stdout",
     "output_type": "stream",
     "text": [
      "xin =  [1. 2. 3.] \n",
      "\n",
      "0:  |F(x)| = 1.25477; step 1; tol 0.149347\n",
      "1:  |F(x)| = 0.0919624; step 1; tol 0.00483432\n",
      "2:  |F(x)| = 0.1019; step 1; tol 0.9999\n",
      "3:  |F(x)| = 0.00467592; step 1; tol 0.89982\n",
      "4:  |F(x)| = 0.000129422; step 1; tol 0.728708\n",
      "5:  |F(x)| = 2.29278e-05; step 1; tol 0.477914\n",
      "6:  |F(x)| = 3.03423e-06; step 1; tol 0.205562\n",
      "[0.93274114 0.23505511 0.27339296] \n",
      "\n",
      "0:  |F(x)| = 1.25477; step 1; tol 0.149347\n",
      "1:  |F(x)| = 0.0919624; step 1; tol 0.00483432\n",
      "2:  |F(x)| = 0.1019; step 1; tol 0.9999\n",
      "3:  |F(x)| = 0.00467592; step 1; tol 0.89982\n",
      "4:  |F(x)| = 0.000129422; step 1; tol 0.728708\n",
      "5:  |F(x)| = 2.29278e-05; step 1; tol 0.477914\n",
      "6:  |F(x)| = 3.03423e-06; step 1; tol 0.205562\n",
      "[0.93274114 0.23505511 0.27339296] \n",
      "\n",
      "0:  |F(x)| = 1.25477; step 1; tol 0.149347\n",
      "1:  |F(x)| = 0.0919624; step 1; tol 0.00483432\n",
      "2:  |F(x)| = 0.1019; step 1; tol 0.9999\n",
      "3:  |F(x)| = 0.00467592; step 1; tol 0.89982\n",
      "4:  |F(x)| = 0.000129422; step 1; tol 0.728708\n",
      "5:  |F(x)| = 2.29278e-05; step 1; tol 0.477914\n",
      "6:  |F(x)| = 3.03423e-06; step 1; tol 0.205562\n",
      "[0.93274114 0.23505511 0.27339296] \n",
      "\n"
     ]
    }
   ],
   "source": [
    "import numpy as np\n",
    "from scipy.optimize import anderson\n",
    "\n",
    "\n",
    "def customNorm(residual):\n",
    "    return np.sqrt(np.sum(residual**2))\n",
    "\n",
    "def customNorm2(residual):\n",
    "    return np.max(np.abs(residual))\n",
    "\n",
    "def fixedPointFunction(x):\n",
    "    \"\"\" Multiply A*x \"\"\"\n",
    "    A = np.array([[ 5.0, 1 ,3], \n",
    "                  [ 1, 1 ,1], \n",
    "                  [ 1, 2 ,1]])\n",
    "    y = np.dot(A,x)\n",
    "    y = y/np.linalg.norm(y)\n",
    "    return y-x\n",
    "\n",
    "\n",
    "\n",
    "xin = np.array([1.0, 2.0, 3.0])\n",
    "print('xin = ',xin,'\\n')\n",
    "\n",
    "xin = np.array([1.0, 2.0, 3.0])\n",
    "sol = anderson(fixedPointFunction,xin,verbose=True)\n",
    "print(sol,'\\n')\n",
    "sol = anderson(fixedPointFunction,xin,tol_norm=customNorm,verbose=True)\n",
    "print(sol,'\\n')\n",
    "sol = anderson(fixedPointFunction,xin,tol_norm=customNorm2,verbose=True)\n",
    "print(sol,'\\n')\n",
    "\n"
   ]
  },
  {
   "cell_type": "code",
   "execution_count": 48,
   "metadata": {},
   "outputs": [
    {
     "name": "stdout",
     "output_type": "stream",
     "text": [
      "1.1.0 1.15.2 sys.version_info(major=3, minor=6, micro=8, releaselevel='final', serial=0)\n"
     ]
    }
   ],
   "source": [
    "import sys, scipy, numpy; print(scipy.__version__, numpy.__version__, sys.version_info)"
   ]
  },
  {
   "cell_type": "code",
   "execution_count": null,
   "metadata": {},
   "outputs": [],
   "source": []
  }
 ],
 "metadata": {
  "kernelspec": {
   "display_name": "Python 3",
   "language": "python",
   "name": "python3"
  },
  "language_info": {
   "codemirror_mode": {
    "name": "ipython",
    "version": 3
   },
   "file_extension": ".py",
   "mimetype": "text/x-python",
   "name": "python",
   "nbconvert_exporter": "python",
   "pygments_lexer": "ipython3",
   "version": "3.6.8"
  }
 },
 "nbformat": 4,
 "nbformat_minor": 2
}
