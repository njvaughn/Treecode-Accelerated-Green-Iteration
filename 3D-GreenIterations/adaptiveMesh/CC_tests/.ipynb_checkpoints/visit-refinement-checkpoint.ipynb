{
 "cells": [
  {
   "cell_type": "code",
   "execution_count": 8,
   "metadata": {},
   "outputs": [
    {
     "name": "stdout",
     "output_type": "stream",
     "text": [
      "/Users/nathanvaughn/Documents/GitHub/Greens-Functions-Iterative-Methods/3D-GreenIterations/adaptiveMesh/CC_tests/../src/utilities\n"
     ]
    }
   ],
   "source": [
    "## Imports\n",
    "\n",
    "from pyevtk.hl import unstructuredGridToVTK, pointsToVTK\n",
    "from pyevtk.vtk import VtkTriangle, VtkQuad, VtkPolygon, VtkVoxel, VtkHexahedron\n",
    "import numpy as np\n",
    "\n",
    "import sys\n",
    "import os\n",
    "dir=os.getcwd()+'/../src/utilities'\n",
    "print(dir)\n",
    "sys.path.append(dir)"
   ]
  },
  {
   "cell_type": "code",
   "execution_count": 22,
   "metadata": {},
   "outputs": [],
   "source": [
    "## Inputs\n",
    "\n",
    "xmax=1\n",
    "xmin=-1\n",
    "ymax=1\n",
    "ymin=-1\n",
    "zmax=1\n",
    "zmin=-1\n",
    "\n",
    "xmid = (xmax+xmin)/2\n",
    "ymid = (ymax+ymin)/2\n",
    "zmid = (zmax+zmin)/2\n",
    "\n",
    "xAtom = 0.3\n",
    "yAtom = 0.3\n",
    "zAtom = 0"
   ]
  },
  {
   "cell_type": "code",
   "execution_count": 18,
   "metadata": {},
   "outputs": [
    {
     "data": {
      "text/plain": [
       "'/Users/nathanvaughn/Desktop/meshTests/visit-refinement/atom.vtu'"
      ]
     },
     "execution_count": 18,
     "metadata": {},
     "output_type": "execute_result"
    }
   ],
   "source": [
    "## Plot atom\n",
    "savefile=\"/Users/nathanvaughn/Desktop/meshTests/visit-refinement/atom\"\n",
    "w = {'weights':np.array([1])}\n",
    "pointsToVTK(savefile,np.array(xAtom), np.array(yAtom), np.array(zAtom), w)"
   ]
  },
  {
   "cell_type": "code",
   "execution_count": 10,
   "metadata": {
    "code_folding": []
   },
   "outputs": [
    {
     "data": {
      "text/plain": [
       "'/Users/nathanvaughn/Desktop/meshTests/visit-refinement/level0.vtu'"
      ]
     },
     "execution_count": 10,
     "metadata": {},
     "output_type": "execute_result"
    }
   ],
   "source": [
    "## Plot root\n",
    "savefile=\"/Users/nathanvaughn/Desktop/meshTests/visit-refinement/level0\"\n",
    "\n",
    "x = np.zeros(4)\n",
    "y = np.zeros(4)\n",
    "z = np.zeros(4)\n",
    "\n",
    "x[0], y[0], z[0] = xmin, ymin, 0\n",
    "x[1], y[1], z[1] = xmax, ymin, 0\n",
    "x[2], y[2], z[2] = xmax, ymax, 0\n",
    "x[3], y[3], z[3] = xmin, ymax, 0\n",
    "\n",
    "\n",
    "# Define connectivity or vertices that belongs to each element\n",
    "conn = np.zeros(4)\n",
    "for i in range(4):\n",
    "    conn[i] = (i+1)%4\n",
    "    \n",
    "    \n",
    "# Define offset of last vertex of each element\n",
    "offset = np.zeros(1)\n",
    "offset[0] = 4\n",
    "\n",
    "# Define cell types\n",
    "ctype = np.zeros(1)\n",
    "ctype[0] = VtkQuad.tid\n",
    "\n",
    "# cell_data = {'density':np.array([1]), 'volume':np.array([4])}\n",
    "\n",
    "# point_data = {'p_density':np.linspace(1,4)}\n",
    "\n",
    "unstructuredGridToVTK(savefile, \n",
    "                      x, y, z, connectivity = conn, offsets = offset, cell_types = ctype, \n",
    "                      cellData = None, pointData = None)"
   ]
  },
  {
   "cell_type": "code",
   "execution_count": 25,
   "metadata": {},
   "outputs": [
    {
     "name": "stdout",
     "output_type": "stream",
     "text": [
      "[-1.  0.  0. -1.  0.  1.  1.  0.  0.  1.  1.  0. -1.  0.  0. -1.]\n"
     ]
    },
    {
     "data": {
      "text/plain": [
       "'/Users/nathanvaughn/Desktop/meshTests/visit-refinement/level1.vtu'"
      ]
     },
     "execution_count": 25,
     "metadata": {},
     "output_type": "execute_result"
    }
   ],
   "source": [
    "## Plot first level\n",
    "savefile=\"/Users/nathanvaughn/Desktop/meshTests/visit-refinement/level1\"\n",
    "\n",
    "x = np.zeros(16)\n",
    "y = np.zeros(16)\n",
    "z = np.zeros(16)\n",
    "\n",
    "idx=0\n",
    "x[0+idx], y[0+idx], z[0+idx] = xmin, ymin, 0  # xmin - xmid;  ymin - ymid\n",
    "x[1+idx], y[1+idx], z[1+idx] = xmid, ymin, 0\n",
    "x[2+idx], y[2+idx], z[2+idx] = xmid, ymid, 0\n",
    "x[3+idx], y[3+idx], z[3+idx] = xmin, ymid, 0\n",
    "\n",
    "idx+=4\n",
    "x[0+idx], y[0+idx], z[0+idx] = xmid, ymin, 0  # xmid - xmax;  ymin - ymid\n",
    "x[1+idx], y[1+idx], z[1+idx] = xmax, ymin, 0\n",
    "x[2+idx], y[2+idx], z[2+idx] = xmax, ymid, 0\n",
    "x[3+idx], y[3+idx], z[3+idx] = xmid, ymid, 0\n",
    "\n",
    "idx+=4\n",
    "x[0+idx], y[0+idx], z[0+idx] = xmid, ymid, 0  # xmid - xmax;  ymid - ymax\n",
    "x[1+idx], y[1+idx], z[1+idx] = xmax, ymid, 0\n",
    "x[2+idx], y[2+idx], z[2+idx] = xmax, ymax, 0\n",
    "x[3+idx], y[3+idx], z[3+idx] = xmid, ymax, 0\n",
    "\n",
    "idx+=4\n",
    "x[0+idx], y[0+idx], z[0+idx] = xmin, ymid, 0  # xmin - xmid;  ymid - ymax\n",
    "x[1+idx], y[1+idx], z[1+idx] = xmid, ymid, 0\n",
    "x[2+idx], y[2+idx], z[2+idx] = xmid, ymax, 0\n",
    "x[3+idx], y[3+idx], z[3+idx] = xmin, ymax, 0\n",
    "\n",
    "print(x)\n",
    "# Define connectivity or vertices that belongs to each element\n",
    "conn = np.zeros(16)\n",
    "for i in range(4):\n",
    "    idx = 4*i\n",
    "    for j in range(4):\n",
    "        conn[idx + j] = idx + (j+1)%4\n",
    "    \n",
    "    \n",
    "# Define offset of last vertex of each element\n",
    "offset = np.zeros(4)\n",
    "offset[0] = 4\n",
    "offset[1] = 8\n",
    "offset[2] = 12\n",
    "offset[3] = 16\n",
    "\n",
    "# Define cell types\n",
    "ctype = np.zeros(4)\n",
    "ctype[0] = VtkQuad.tid\n",
    "ctype[1] = VtkQuad.tid\n",
    "ctype[2] = VtkQuad.tid\n",
    "ctype[3] = VtkQuad.tid\n",
    "\n",
    "\n",
    "unstructuredGridToVTK(savefile, \n",
    "                      x, y, z, connectivity = conn, offsets = offset, cell_types = ctype, \n",
    "                      cellData = None, pointData = None)\n"
   ]
  },
  {
   "cell_type": "code",
   "execution_count": 6,
   "metadata": {},
   "outputs": [],
   "source": [
    "## Plot second level\n",
    "savefile=\"/Users/nathanvaughn/Desktop/meshTests/visit-refinement/level2\"\n",
    "\n",
    "\n",
    "\n",
    "# Redefine xmin, xmid, etc.. to cell that contains atom\n",
    "\n",
    "xmin=0\n",
    "xmax=1\n",
    "ymin=0\n",
    "ymax=1\n",
    "xmid = (xmax+xmin)/2\n",
    "ymid = (ymax+ymin)/2\n",
    "\n",
    "x = np.zeros(16)\n",
    "y = np.zeros(16)\n",
    "z = np.zeros(16)\n",
    "\n",
    "idx=0\n",
    "x[0+idx], y[0+idx], z[0+idx] = xmin, ymin, 0  # xmin - xmid;  ymin - ymid\n",
    "x[1+idx], y[1+idx], z[1+idx] = xmid, ymin, 0\n",
    "x[2+idx], y[2+idx], z[2+idx] = xmid, ymid, 0\n",
    "x[3+idx], y[3+idx], z[3+idx] = xmin, ymid, 0\n",
    "\n",
    "idx+=4\n",
    "x[0+idx], y[0+idx], z[0+idx] = xmid, ymin, 0  # xmid - xmax;  ymin - ymid\n",
    "x[1+idx], y[1+idx], z[1+idx] = xmax, ymin, 0\n",
    "x[2+idx], y[2+idx], z[2+idx] = xmax, ymid, 0\n",
    "x[3+idx], y[3+idx], z[3+idx] = xmid, ymid, 0\n",
    "\n",
    "idx+=4\n",
    "x[0+idx], y[0+idx], z[0+idx] = xmid, ymid, 0  # xmid - xmax;  ymid - ymax\n",
    "x[1+idx], y[1+idx], z[1+idx] = xmax, ymid, 0\n",
    "x[2+idx], y[2+idx], z[2+idx] = xmax, ymax, 0\n",
    "x[3+idx], y[3+idx], z[3+idx] = xmid, ymax, 0\n",
    "\n",
    "idx+=4\n",
    "x[0+idx], y[0+idx], z[0+idx] = xmin, ymid, 0  # xmin - xmid;  ymid - ymax\n",
    "x[1+idx], y[1+idx], z[1+idx] = xmid, ymid, 0\n",
    "x[2+idx], y[2+idx], z[2+idx] = xmid, ymax, 0\n",
    "x[3+idx], y[3+idx], z[3+idx] = xmin, ymax, 0\n",
    "\n",
    "print(x)\n",
    "# Define connectivity or vertices that belongs to each element\n",
    "conn = np.zeros(16)\n",
    "for i in range(4):\n",
    "    idx = 4*i\n",
    "    for j in range(4):\n",
    "        conn[idx + j] = idx + (j+1)%4\n",
    "    \n",
    "    \n",
    "# Define offset of last vertex of each element\n",
    "offset = np.zeros(4)\n",
    "offset[0] = 4\n",
    "offset[1] = 8\n",
    "offset[2] = 12\n",
    "offset[3] = 16\n",
    "\n",
    "# Define cell types\n",
    "ctype = np.zeros(4)\n",
    "ctype[0] = VtkQuad.tid\n",
    "ctype[1] = VtkQuad.tid\n",
    "ctype[2] = VtkQuad.tid\n",
    "ctype[3] = VtkQuad.tid\n",
    "\n",
    "\n",
    "unstructuredGridToVTK(savefile, \n",
    "                      x, y, z, connectivity = conn, offsets = offset, cell_types = ctype, \n",
    "                      cellData = None, pointData = None)"
   ]
  },
  {
   "cell_type": "code",
   "execution_count": 7,
   "metadata": {},
   "outputs": [],
   "source": [
    "## Plot final refinement\n",
    "savefile=\"/Users/nathanvaughn/Desktop/meshTests/visit-refinement/final\"\n",
    "\n",
    "unstructuredGridToVTK(savefile, \n",
    "                      x, y, z, connectivity = conn, offsets = offset, cell_types = ctype, \n",
    "                      cellData = cell_data, pointData = point_data)"
   ]
  },
  {
   "cell_type": "code",
   "execution_count": null,
   "metadata": {},
   "outputs": [],
   "source": []
  }
 ],
 "metadata": {
  "kernelspec": {
   "display_name": "Python 3",
   "language": "python",
   "name": "python3"
  },
  "language_info": {
   "codemirror_mode": {
    "name": "ipython",
    "version": 3
   },
   "file_extension": ".py",
   "mimetype": "text/x-python",
   "name": "python",
   "nbconvert_exporter": "python",
   "pygments_lexer": "ipython3",
   "version": "3.6.8"
  }
 },
 "nbformat": 4,
 "nbformat_minor": 2
}
