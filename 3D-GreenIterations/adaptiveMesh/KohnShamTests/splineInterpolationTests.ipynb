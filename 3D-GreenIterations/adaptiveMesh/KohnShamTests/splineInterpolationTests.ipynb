{
 "cells": [
  {
   "cell_type": "code",
   "execution_count": 8,
   "metadata": {},
   "outputs": [],
   "source": [
    "##  IMPORTS\n",
    "%matplotlib inline\n",
    "import unittest\n",
    "import numpy as np\n",
    "from scipy.interpolate import InterpolatedUnivariateSpline\n",
    "\n",
    "\n",
    "import matplotlib.pyplot as plt\n",
    "import os\n",
    "import sys\n",
    "sys.path.append('../src/dataStructures')\n",
    "sys.path.append('../src/utilities')\n",
    "\n",
    "from AtomStruct import Atom"
   ]
  },
  {
   "cell_type": "code",
   "execution_count": 4,
   "metadata": {
    "code_folding": [
     0
    ],
    "collapsed": true
   },
   "outputs": [
    {
     "name": "stdout",
     "output_type": "stream",
     "text": [
      "/Users/nathanvaughn/AtomicData/allElectron/z5/singleAtomData/\n",
      "['psi30.inp', 'psi31.inp', 'psi32.inp', 'psi21.inp', 'psi20.inp', 'density.inp', 'psi10.inp']\n",
      "Number of points:  1801\n",
      "Left =  7.386159678112966\n",
      "Right =  7.33331926099244\n",
      "Integrated density:  7.359739469552703\n"
     ]
    },
    {
     "ename": "KeyboardInterrupt",
     "evalue": "",
     "output_type": "error",
     "traceback": [
      "\u001b[0;31m---------------------------------------------------------------------------\u001b[0m",
      "\u001b[0;31mKeyboardInterrupt\u001b[0m                         Traceback (most recent call last)",
      "\u001b[0;32m<ipython-input-4-907973b5e282>\u001b[0m in \u001b[0;36m<module>\u001b[0;34m\u001b[0m\n\u001b[1;32m     78\u001b[0m         \u001b[0mplt\u001b[0m\u001b[0;34m.\u001b[0m\u001b[0mshow\u001b[0m\u001b[0;34m(\u001b[0m\u001b[0;34m)\u001b[0m\u001b[0;34m\u001b[0m\u001b[0;34m\u001b[0m\u001b[0m\n\u001b[1;32m     79\u001b[0m \u001b[0;34m\u001b[0m\u001b[0m\n\u001b[0;32m---> 80\u001b[0;31m \u001b[0mtestReadingRadialData\u001b[0m\u001b[0;34m(\u001b[0m\u001b[0;34m)\u001b[0m\u001b[0;34m\u001b[0m\u001b[0;34m\u001b[0m\u001b[0m\n\u001b[0m",
      "\u001b[0;32m<ipython-input-4-907973b5e282>\u001b[0m in \u001b[0;36mtestReadingRadialData\u001b[0;34m()\u001b[0m\n\u001b[1;32m     76\u001b[0m         \u001b[0mplt\u001b[0m\u001b[0;34m.\u001b[0m\u001b[0mlegend\u001b[0m\u001b[0;34m(\u001b[0m\u001b[0;34m)\u001b[0m\u001b[0;34m\u001b[0m\u001b[0;34m\u001b[0m\u001b[0m\n\u001b[1;32m     77\u001b[0m         \u001b[0mplt\u001b[0m\u001b[0;34m.\u001b[0m\u001b[0mxlabel\u001b[0m\u001b[0;34m(\u001b[0m\u001b[0;34m'radius'\u001b[0m\u001b[0;34m)\u001b[0m\u001b[0;34m\u001b[0m\u001b[0;34m\u001b[0m\u001b[0m\n\u001b[0;32m---> 78\u001b[0;31m         \u001b[0mplt\u001b[0m\u001b[0;34m.\u001b[0m\u001b[0mshow\u001b[0m\u001b[0;34m(\u001b[0m\u001b[0;34m)\u001b[0m\u001b[0;34m\u001b[0m\u001b[0;34m\u001b[0m\u001b[0m\n\u001b[0m\u001b[1;32m     79\u001b[0m \u001b[0;34m\u001b[0m\u001b[0m\n\u001b[1;32m     80\u001b[0m \u001b[0mtestReadingRadialData\u001b[0m\u001b[0;34m(\u001b[0m\u001b[0;34m)\u001b[0m\u001b[0;34m\u001b[0m\u001b[0;34m\u001b[0m\u001b[0m\n",
      "\u001b[0;32m~/anaconda3/lib/python3.6/site-packages/matplotlib/pyplot.py\u001b[0m in \u001b[0;36mshow\u001b[0;34m(*args, **kw)\u001b[0m\n\u001b[1;32m    252\u001b[0m     \"\"\"\n\u001b[1;32m    253\u001b[0m     \u001b[0;32mglobal\u001b[0m \u001b[0m_show\u001b[0m\u001b[0;34m\u001b[0m\u001b[0;34m\u001b[0m\u001b[0m\n\u001b[0;32m--> 254\u001b[0;31m     \u001b[0;32mreturn\u001b[0m \u001b[0m_show\u001b[0m\u001b[0;34m(\u001b[0m\u001b[0;34m*\u001b[0m\u001b[0margs\u001b[0m\u001b[0;34m,\u001b[0m \u001b[0;34m**\u001b[0m\u001b[0mkw\u001b[0m\u001b[0;34m)\u001b[0m\u001b[0;34m\u001b[0m\u001b[0;34m\u001b[0m\u001b[0m\n\u001b[0m\u001b[1;32m    255\u001b[0m \u001b[0;34m\u001b[0m\u001b[0m\n\u001b[1;32m    256\u001b[0m \u001b[0;34m\u001b[0m\u001b[0m\n",
      "\u001b[0;32m~/anaconda3/lib/python3.6/site-packages/matplotlib/backend_bases.py\u001b[0m in \u001b[0;36mshow\u001b[0;34m(cls, block)\u001b[0m\n\u001b[1;32m   3264\u001b[0m                 \u001b[0mblock\u001b[0m \u001b[0;34m=\u001b[0m \u001b[0;32mTrue\u001b[0m\u001b[0;34m\u001b[0m\u001b[0;34m\u001b[0m\u001b[0m\n\u001b[1;32m   3265\u001b[0m         \u001b[0;32mif\u001b[0m \u001b[0mblock\u001b[0m\u001b[0;34m:\u001b[0m\u001b[0;34m\u001b[0m\u001b[0;34m\u001b[0m\u001b[0m\n\u001b[0;32m-> 3266\u001b[0;31m             \u001b[0mcls\u001b[0m\u001b[0;34m.\u001b[0m\u001b[0mmainloop\u001b[0m\u001b[0;34m(\u001b[0m\u001b[0;34m)\u001b[0m\u001b[0;34m\u001b[0m\u001b[0;34m\u001b[0m\u001b[0m\n\u001b[0m\u001b[1;32m   3267\u001b[0m \u001b[0;34m\u001b[0m\u001b[0m\n\u001b[1;32m   3268\u001b[0m     \u001b[0;31m# This method is the one actually exporting the required methods.\u001b[0m\u001b[0;34m\u001b[0m\u001b[0;34m\u001b[0m\u001b[0;34m\u001b[0m\u001b[0m\n",
      "\u001b[0;32m~/anaconda3/lib/python3.6/site-packages/matplotlib/backends/_backend_tk.py\u001b[0m in \u001b[0;36mmainloop\u001b[0;34m()\u001b[0m\n\u001b[1;32m   1037\u001b[0m         \u001b[0mmanagers\u001b[0m \u001b[0;34m=\u001b[0m \u001b[0mGcf\u001b[0m\u001b[0;34m.\u001b[0m\u001b[0mget_all_fig_managers\u001b[0m\u001b[0;34m(\u001b[0m\u001b[0;34m)\u001b[0m\u001b[0;34m\u001b[0m\u001b[0;34m\u001b[0m\u001b[0m\n\u001b[1;32m   1038\u001b[0m         \u001b[0;32mif\u001b[0m \u001b[0mmanagers\u001b[0m\u001b[0;34m:\u001b[0m\u001b[0;34m\u001b[0m\u001b[0;34m\u001b[0m\u001b[0m\n\u001b[0;32m-> 1039\u001b[0;31m             \u001b[0mmanagers\u001b[0m\u001b[0;34m[\u001b[0m\u001b[0;36m0\u001b[0m\u001b[0;34m]\u001b[0m\u001b[0;34m.\u001b[0m\u001b[0mwindow\u001b[0m\u001b[0;34m.\u001b[0m\u001b[0mmainloop\u001b[0m\u001b[0;34m(\u001b[0m\u001b[0;34m)\u001b[0m\u001b[0;34m\u001b[0m\u001b[0;34m\u001b[0m\u001b[0m\n\u001b[0m",
      "\u001b[0;32m~/anaconda3/lib/python3.6/tkinter/__init__.py\u001b[0m in \u001b[0;36mmainloop\u001b[0;34m(self, n)\u001b[0m\n\u001b[1;32m   1281\u001b[0m     \u001b[0;32mdef\u001b[0m \u001b[0mmainloop\u001b[0m\u001b[0;34m(\u001b[0m\u001b[0mself\u001b[0m\u001b[0;34m,\u001b[0m \u001b[0mn\u001b[0m\u001b[0;34m=\u001b[0m\u001b[0;36m0\u001b[0m\u001b[0;34m)\u001b[0m\u001b[0;34m:\u001b[0m\u001b[0;34m\u001b[0m\u001b[0;34m\u001b[0m\u001b[0m\n\u001b[1;32m   1282\u001b[0m         \u001b[0;34m\"\"\"Call the mainloop of Tk.\"\"\"\u001b[0m\u001b[0;34m\u001b[0m\u001b[0;34m\u001b[0m\u001b[0m\n\u001b[0;32m-> 1283\u001b[0;31m         \u001b[0mself\u001b[0m\u001b[0;34m.\u001b[0m\u001b[0mtk\u001b[0m\u001b[0;34m.\u001b[0m\u001b[0mmainloop\u001b[0m\u001b[0;34m(\u001b[0m\u001b[0mn\u001b[0m\u001b[0;34m)\u001b[0m\u001b[0;34m\u001b[0m\u001b[0;34m\u001b[0m\u001b[0m\n\u001b[0m\u001b[1;32m   1284\u001b[0m     \u001b[0;32mdef\u001b[0m \u001b[0mquit\u001b[0m\u001b[0;34m(\u001b[0m\u001b[0mself\u001b[0m\u001b[0;34m)\u001b[0m\u001b[0;34m:\u001b[0m\u001b[0;34m\u001b[0m\u001b[0;34m\u001b[0m\u001b[0m\n\u001b[1;32m   1285\u001b[0m         \u001b[0;34m\"\"\"Quit the Tcl interpreter. All widgets will be destroyed.\"\"\"\u001b[0m\u001b[0;34m\u001b[0m\u001b[0;34m\u001b[0m\u001b[0m\n",
      "\u001b[0;31mKeyboardInterrupt\u001b[0m: "
     ]
    }
   ],
   "source": [
    "## Test reading and plotting\n",
    "\n",
    "def testReadingRadialData():\n",
    "        atomicNumber = 5   \n",
    "        AtomicDataPath = '/Users/nathanvaughn/AtomicData/allElectron/z'+str(atomicNumber)+'/singleAtomData/'\n",
    "        print(AtomicDataPath)\n",
    "        print(os.listdir(AtomicDataPath))\n",
    "        \n",
    "        \n",
    "        plt.figure()  \n",
    "        data = np.genfromtxt(AtomicDataPath+'density.inp')\n",
    "#         print('rho[0] = ', data[0,1])\n",
    "        print('Number of points: ', len(data[:,1]))\n",
    "\n",
    "#         plt.semilogy(data[:,0],data[:,1],label='Density')\n",
    "        plt.plot(data[:,0],data[:,1],'o',label='Density')\n",
    "        plt.plot(data[:,0],data[:,0],'o',label='Radial points')\n",
    "        \n",
    "#         r = data[:,0]\n",
    "#         P = np.zeros_like(r)\n",
    "#         k2 = np.sqrt(2*0.4)\n",
    "#         for i in range(len(r)):\n",
    "#             P[i] = piecewiseExp(r[i], 0.45, 2*atomicNumber, 2*k2, data[0,1])\n",
    "#         plt.semilogy(r,P,label='Piecewise Exponential')\n",
    "\n",
    "        plt.plot(data[:,0],np.sqrt(data[:,1]),'o',label='sqrt(Density)')\n",
    "#         plt.plot(data[:,0],np.sqrt(data[:,1])*(1+1/data[:,0]),label='sqrt(Density)')\n",
    "#         plt.plot(data[:,0],(data[:,1])*(1+1/data[:,0]),label='(Density)(1+1/r)')\n",
    "#         plt.plot(data[:,0],(data[:,1])*(data[:,0]**2),label='(Density)*r**2')\n",
    "#         plt.plot(data[:,0], data[0,1]*np.exp(-2*atomicNumber*data[:,0]), 'r-')\n",
    "#         plt.plot(data[:,0], data[0,1]*np.exp(-2*np.sqrt(2*0.3)*atomicNumber*data[:,0]), 'k-')\n",
    "        plt.legend()\n",
    "#         print(data[:,0])\n",
    "        r=data[:,0]\n",
    "        density=data[:,1]\n",
    "#         print('\\n\\n\\n')\n",
    "#         print(data[:,1])\n",
    "        left = 0\n",
    "        right = 0\n",
    "        for i in range(len(density)-1):\n",
    "            left += density[i]*(r[i+1]-r[i])\n",
    "            right += density[i+1]*(r[i+1]-r[i])\n",
    "        trap = 1/2*(left+right)\n",
    "        print('Left = ', left)    \n",
    "        print('Right = ', right)\n",
    "        print('Integrated density: ', trap)\n",
    "        \n",
    "        \n",
    "# #         plt.figure() \n",
    "#           \n",
    "#         for orbital in os.listdir(AtomicDataPath):\n",
    "#             if orbital[:3]=='psi':\n",
    "# #             if orbital[:5]=='psi32':\n",
    "#                 print(orbital)\n",
    "#                 data = np.genfromtxt(AtomicDataPath+orbital)\n",
    "#                 plt.semilogy(data[:,0],np.abs(data[:,1]),label=orbital[:-4])\n",
    "# #                 plt.semilogy(data[:,0],np.abs(data[:,1]**2),label=orbital[:-4]+' squared')\n",
    "# #                 plt.plot(data[:,0],np.sign(data[-1,1])*data[:,1],label=orbital[:-4])\n",
    "# #         xi = np.sqrt(2*0.2)\n",
    "# #         plt.plot(data[:,0], np.sqrt(xi**3/np.pi) *np.exp(-xi*atomicNumber*data[:,0]), 'r-')\n",
    "# #                 \n",
    "# #         \n",
    "# # #         data0 = np.genfromtxt(AtomicDataPath+'psi10.inp')\n",
    "# # #         r0 = data0[:,0]\n",
    "# # #         psi0 = data0[:,1]\n",
    "# # #         \n",
    "# # #         data1 = np.genfromtxt(AtomicDataPath+'psi20.inp')\n",
    "# # #         r1 = data1[:,0]\n",
    "# # #         psi1 = data1[:,1]\n",
    "# # #         [r0, phi0] = np.genfromtxt(AtomicDataPath+'psi10.inp')\n",
    "# # #         [r1, phi1] = np.genfromtxt(AtomicDataPath+'psi20.inp')\n",
    "# #         \n",
    "# # #         plt.figure()\n",
    "# # #         plt.plot(r0,psi0,'b',label='psi10')\n",
    "# # #         plt.plot(r1,psi1,'g',label='psi20')\n",
    "        plt.legend()\n",
    "        plt.xlabel('radius')\n",
    "        plt.show()\n",
    "        \n",
    "testReadingRadialData()"
   ]
  },
  {
   "cell_type": "code",
   "execution_count": 20,
   "metadata": {},
   "outputs": [
    {
     "name": "stdout",
     "output_type": "stream",
     "text": [
      "Setting up interpolators.\n",
      "Using single atom data from:\n",
      "/Users/nathanvaughn/AtomicData/allElectron/z3/singleAtomData/\n",
      "psi21\n",
      "2.526468646182557e-07 19.999949470627104\n",
      "1.606380281234764e-07 0.0010008495582174261 \n",
      "\n",
      "psi20\n",
      "2.526468646182557e-07 19.999949470627104\n",
      "1.6372365930983548 -8.020481655183427e-05 \n",
      "\n",
      "psi10\n",
      "2.526468646182557e-07 19.999949470627104\n",
      "9.159400726160007 -1.8138087313078812e-12 \n",
      "\n",
      "Set up atom with z= 3\n",
      "{'psi21': <scipy.interpolate.fitpack2.InterpolatedUnivariateSpline object at 0x7ffdd8ce6550>, 'psi20': <scipy.interpolate.fitpack2.InterpolatedUnivariateSpline object at 0x7ffdd8ce6e48>, 'density': <scipy.interpolate.fitpack2.InterpolatedUnivariateSpline object at 0x7ffdd8ce67f0>, 'psi10': <scipy.interpolate.fitpack2.InterpolatedUnivariateSpline object at 0x7ffdd8ce6400>}\n"
     ]
    }
   ],
   "source": [
    "LiAtom = Atom(0,0,0,3,2)\n",
    "# LiAtom.orbitalInterpolators()\n",
    "print(LiAtom.interpolators)\n",
    "# print(LiAtom.interpolators['psi10'])"
   ]
  },
  {
   "cell_type": "code",
   "execution_count": 13,
   "metadata": {
    "collapsed": true
   },
   "outputs": [
    {
     "name": "stdout",
     "output_type": "stream",
     "text": [
      "[ 0.          2.77777778  5.55555556  8.33333333 11.11111111 13.88888889\n",
      " 16.66666667 19.44444444 22.22222222 25.         27.77777778 30.55555556\n",
      " 33.33333333 36.11111111 38.88888889 41.66666667 44.44444444 47.22222222\n",
      " 50.        ]\n"
     ]
    },
    {
     "data": {
      "text/plain": [
       "array([ 9.15941651e+00,  1.08585496e-02,  3.07886672e-05,  1.02400676e-07,\n",
       "        3.76557060e-10,  1.47950251e-11, -3.84702879e-12, -2.99252280e-12,\n",
       "       -2.43446652e-11, -1.50422785e-10, -4.45021353e-10, -9.72134373e-10,\n",
       "       -1.79575466e-09, -2.97987413e-09, -4.58847893e-09, -6.68553923e-09,\n",
       "       -9.33515309e-09, -1.26011344e-08, -1.65476877e-08])"
      ]
     },
     "execution_count": 13,
     "metadata": {},
     "output_type": "execute_result"
    }
   ],
   "source": [
    "N=19\n",
    "r = np.linspace(0,50,N)\n",
    "print(r)\n",
    "LiAtom.interpolators['psi10'](r)\n",
    "\n"
   ]
  },
  {
   "cell_type": "code",
   "execution_count": 34,
   "metadata": {},
   "outputs": [],
   "source": [
    "def orbitalInterpolators(atomicNumber,verbose=1):\n",
    "  \n",
    "\n",
    "    \"\"\"\n",
    "    * if ext=0 or 'extrapolate', return the extrapolated value.\n",
    "    * if ext=1 or 'zeros', return 0\n",
    "    * if ext=2 or 'raise', raise a ValueError\n",
    "    * if ext=3 of 'const', return the boundary value. \n",
    "    \"\"\"\n",
    "\n",
    "\n",
    "    interpolators = {}\n",
    "    # search for single atom data, either on local machine or on flux\n",
    "    if os.path.isdir('/Users/nathanvaughn/AtomicData/allElectron/z'+str(int(atomicNumber))+'/singleAtomData/'):\n",
    "        # working on local machine\n",
    "        path = '/Users/nathanvaughn/AtomicData/allElectron/z'+str(int(atomicNumber))+'/singleAtomData/'\n",
    "    elif os.path.isdir('/home/njvaughn/AtomicData/allElectron/z'+str(int(atomicNumber))+'/singleAtomData/'):\n",
    "        # working on Flux or Great Lakes\n",
    "        path = '/home/njvaughn/AtomicData/allElectron/z'+str(int(atomicNumber))+'/singleAtomData/'\n",
    "    else:\n",
    "        print('Could not find single atom data...')\n",
    "        print('Checked in: /Users/nathanvaughn/AtomicData/allElectron/z'+str(int(atomicNumber))+'/singleAtomData/')\n",
    "        print('Checked in: /home/njvaughn/AtomicData/allElectron/z'+str(int(atomicNumber))+'/singleAtomData/')\n",
    "\n",
    "\n",
    "    if verbose>0: print('Using single atom data from:')\n",
    "    if verbose>0: print(path)\n",
    "    for singleAtomData in os.listdir(path): \n",
    "        if singleAtomData[:3]=='psi':\n",
    "            data = np.genfromtxt(path+singleAtomData)\n",
    "#             print(singleAtomData[:5])\n",
    "#             print(data[0,0], data[-1,0])\n",
    "#             print(data[0,1], data[-1,1],\"\\n\")\n",
    "            interpolators[singleAtomData[:5]] = InterpolatedUnivariateSpline(data[:,0],data[:,1],k=3,ext=0)\n",
    "        elif singleAtomData[:7]=='density':\n",
    "            data = np.genfromtxt(path+singleAtomData)\n",
    "            interpolators[singleAtomData[:7]+\"_extrap\"] = InterpolatedUnivariateSpline(data[:,0],data[:,1],k=3,ext='extrapolate')\n",
    "            interpolators[singleAtomData[:7]+\"_const\"] = InterpolatedUnivariateSpline(data[:,0],data[:,1],k=3,ext='const')\n",
    "            interpolators[singleAtomData[:7]+\"_zeros\"] = InterpolatedUnivariateSpline(data[:,0],data[:,1],k=3,ext='zeros')\n",
    "#                 interpolators[singleAtomData[:7]] = InterpolatedUnivariateSpline(data[:,0],data[:,1],k=3,ext='const')\n",
    "    return interpolators"
   ]
  },
  {
   "cell_type": "code",
   "execution_count": 36,
   "metadata": {},
   "outputs": [
    {
     "name": "stdout",
     "output_type": "stream",
     "text": [
      "Using single atom data from:\n",
      "/Users/nathanvaughn/AtomicData/allElectron/z5/singleAtomData/\n"
     ]
    },
    {
     "data": {
      "image/png": "[encoded data removed]",
      "text/plain": [
       "<Figure size 432x288 with 1 Axes>"
      ]
     },
     "metadata": {
      "needs_background": "light"
     },
     "output_type": "display_data"
    },
    {
     "data": {
      "image/png": "[encoded data removed]",
      "text/plain": [
       "<Figure size 432x288 with 1 Axes>"
      ]
     },
     "metadata": {
      "needs_background": "light"
     },
     "output_type": "display_data"
    }
   ],
   "source": [
    "interpolators = orbitalInterpolators(5)\n",
    "# interpolators\n",
    "\n",
    "N=10000\n",
    "r=np.linspace(0,80,N)\n",
    "\n",
    "plt.figure()\n",
    "plt.plot(r,interpolators['density_extrap'](r),'r-',label='Extrapolated')\n",
    "plt.plot(r,interpolators['density_const'](r),'b-',label='Constant')\n",
    "plt.plot(r,interpolators['density_zeros'](r),'g-',label='Zero')\n",
    "plt.legend()\n",
    "\n",
    "plt.figure()\n",
    "plt.semilogy(r,np.abs( interpolators['density_extrap'](r) ),'r-',label='Extrapolated')\n",
    "plt.semilogy(r,np.abs( interpolators['density_const'](r) ),'b-',label='Constant')\n",
    "plt.semilogy(r,np.abs( interpolators['density_zeros'](r) ),'g-',label='Zero')\n",
    "plt.legend()\n",
    "\n",
    "\n",
    "plt.show()\n"
   ]
  },
  {
   "cell_type": "code",
   "execution_count": null,
   "metadata": {},
   "outputs": [],
   "source": []
  }
 ],
 "metadata": {
  "kernelspec": {
   "display_name": "Python 3",
   "language": "python",
   "name": "python3"
  },
  "language_info": {
   "codemirror_mode": {
    "name": "ipython",
    "version": 3
   },
   "file_extension": ".py",
   "mimetype": "text/x-python",
   "name": "python",
   "nbconvert_exporter": "python",
   "pygments_lexer": "ipython3",
   "version": "3.6.8"
  }
 },
 "nbformat": 4,
 "nbformat_minor": 2
}
