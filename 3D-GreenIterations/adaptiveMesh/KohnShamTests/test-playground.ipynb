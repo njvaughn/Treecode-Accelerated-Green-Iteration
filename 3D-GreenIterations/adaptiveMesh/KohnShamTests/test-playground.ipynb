{
 "cells": [
  {
   "cell_type": "code",
   "execution_count": 1,
   "metadata": {},
   "outputs": [],
   "source": [
    "def testfun_factory():\n",
    "    def func(x,args):\n",
    "        # unpack args\n",
    "        y = args['y']\n",
    "        z = args['z']\n",
    "        y += 1\n",
    "        z += 2\n",
    "\n",
    "        # Packup args\n",
    "        args['y']=y\n",
    "        args['z']=z\n",
    "        return x**2-6\n",
    "    return args, func"
   ]
  },
  {
   "cell_type": "code",
   "execution_count": 5,
   "metadata": {},
   "outputs": [
    {
     "name": "stdout",
     "output_type": "stream",
     "text": [
      "<function testfun_factory.<locals>.func at 0x10629ad90>\n",
      "{'y': 1, 'z': 1}\n",
      "-5\n",
      "{'y': 2, 'z': 3}\n",
      "19\n",
      "{'y': 3, 'z': 5}\n"
     ]
    }
   ],
   "source": [
    "x=1\n",
    "y=1\n",
    "z=1\n",
    "args = {'y':y, 'z':z}\n",
    "\n",
    "args, testfunc = testfun_factory()\n",
    "print(testfunc)\n",
    "print(args)\n",
    "x = testfunc(x,args)\n",
    "print(x)\n",
    "print(args)\n",
    "x = testfunc(x,args)\n",
    "print(x)\n",
    "print(args)"
   ]
  },
  {
   "cell_type": "code",
   "execution_count": 6,
   "metadata": {},
   "outputs": [],
   "source": [
    "import numpy as np\n",
    "from scipy.optimize import root as scipyRoot\n",
    "from scipy.optimize import show_options"
   ]
  },
  {
   "cell_type": "code",
   "execution_count": 25,
   "metadata": {},
   "outputs": [],
   "source": [
    "def PowerIterationClosure():\n",
    "    def PowerIteration(psiIn,args):\n",
    "        # Unpack\n",
    "        \n",
    "        args['dummy']+=2\n",
    "        args['dummy2']*=1.01\n",
    "\n",
    "        args['counter'] += 1\n",
    "#         print(counter)\n",
    "        psiOut = np.dot(A,psiIn)\n",
    "        psiOut /= np.linalg.norm(psiOut)\n",
    "        psiOut /= np.max(np.abs(psiOut))\n",
    "\n",
    "      \n",
    "        return psiOut - psiIn\n",
    "    return PowerIteration, args"
   ]
  },
  {
   "cell_type": "code",
   "execution_count": 28,
   "metadata": {},
   "outputs": [
    {
     "name": "stdout",
     "output_type": "stream",
     "text": [
      "{'dummy': 1, 'dummy2': 2, 'counter': 0}\n",
      "{'dummy': 1, 'dummy2': 2, 'counter': 0}\n"
     ]
    }
   ],
   "source": [
    "args={'dummy':1, 'dummy2':2, 'counter':0}\n",
    "print(args)\n",
    "PowerIteration, args = PowerIterationClosure()\n",
    "print(args)\n",
    "A = np.array( [ [1,0,0],\n",
    "                [0,0.5,0],\n",
    "                [0,0,0.99]\n",
    "              ])\n",
    "psiIn=np.array([1,2,3])\n"
   ]
  },
  {
   "cell_type": "code",
   "execution_count": 27,
   "metadata": {},
   "outputs": [
    {
     "name": "stdout",
     "output_type": "stream",
     "text": [
      "0:  |F(x)| = 0.166684; step 1; tol 0.00346981\n",
      "1:  |F(x)| = 0.0811899; step 1; tol 0.213529\n",
      "2:  |F(x)| = 0.00352258; step 1; tol 0.00169418\n",
      "3:  |F(x)| = 0.00355598; step 1; tol 0.917148\n",
      "4:  |F(x)| = 4.27429e-07; step 1; tol 0.757044\n",
      "5:  |F(x)| = 2.47761e-11; step 1; tol 0.515804\n",
      "6:  |F(x)| = 8.79788e-16; step 1; tol 0.239448\n",
      "17 2.16571341125616 8\n"
     ]
    }
   ],
   "source": [
    "# show_options(solver='root', method='anderson', disp=True)\n",
    "jacobianOptions={'alpha':1.0, 'M':5, 'w0':0.01}\n",
    "options={'fatol':1e-12, 'line_search':None, 'disp':True, 'jac_options':jacobianOptions}\n",
    "# print(options)\n",
    "method='anderson'\n",
    "psiOutAndersonRoot = scipyRoot(PowerIteration, psiIn, args=args, method=method, options=options)\n",
    "\n",
    "dummy=args['dummy']\n",
    "dummy2=args['dummy2']\n",
    "counter=args['counter']\n",
    "\n",
    "print(dummy,dummy2,counter)"
   ]
  },
  {
   "cell_type": "code",
   "execution_count": null,
   "metadata": {},
   "outputs": [],
   "source": []
  }
 ],
 "metadata": {
  "kernelspec": {
   "display_name": "Python 3",
   "language": "python",
   "name": "python3"
  },
  "language_info": {
   "codemirror_mode": {
    "name": "ipython",
    "version": 3
   },
   "file_extension": ".py",
   "mimetype": "text/x-python",
   "name": "python",
   "nbconvert_exporter": "python",
   "pygments_lexer": "ipython3",
   "version": "3.6.8"
  }
 },
 "nbformat": 4,
 "nbformat_minor": 2
}
