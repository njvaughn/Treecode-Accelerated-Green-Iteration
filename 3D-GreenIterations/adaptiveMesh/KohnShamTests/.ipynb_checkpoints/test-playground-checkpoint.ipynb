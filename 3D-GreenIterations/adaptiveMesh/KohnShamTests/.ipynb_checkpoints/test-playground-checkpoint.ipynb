{
 "cells": [
  {
   "cell_type": "code",
   "execution_count": 1,
   "metadata": {},
   "outputs": [],
   "source": [
    "def testfun_factory():\n",
    "    def func(x,args):\n",
    "        # unpack args\n",
    "        y = args['y']\n",
    "        z = args['z']\n",
    "        y += 1\n",
    "        z += 2\n",
    "\n",
    "        # Packup args\n",
    "        args['y']=y\n",
    "        args['z']=z\n",
    "        return x**2-6\n",
    "    return args, func"
   ]
  },
  {
   "cell_type": "code",
   "execution_count": 5,
   "metadata": {},
   "outputs": [
    {
     "name": "stdout",
     "output_type": "stream",
     "text": [
      "<function testfun_factory.<locals>.func at 0x10629ad90>\n",
      "{'y': 1, 'z': 1}\n",
      "-5\n",
      "{'y': 2, 'z': 3}\n",
      "19\n",
      "{'y': 3, 'z': 5}\n"
     ]
    }
   ],
   "source": [
    "x=1\n",
    "y=1\n",
    "z=1\n",
    "args = {'y':y, 'z':z}\n",
    "\n",
    "args, testfunc = testfun_factory()\n",
    "print(testfunc)\n",
    "print(args)\n",
    "x = testfunc(x,args)\n",
    "print(x)\n",
    "print(args)\n",
    "x = testfunc(x,args)\n",
    "print(x)\n",
    "print(args)"
   ]
  },
  {
   "cell_type": "code",
   "execution_count": 6,
   "metadata": {},
   "outputs": [],
   "source": [
    "import numpy as np\n",
    "from scipy.optimize import root as scipyRoot"
   ]
  },
  {
   "cell_type": "code",
   "execution_count": null,
   "metadata": {},
   "outputs": [],
   "source": [
    "def PowerIteration(psiIn,args):\n",
    "    # Unpack\n",
    "    dummy=args['dummy']\n",
    "    dummy2=args['dummy2']\n",
    "    counter=args['counter']\n",
    "    dummy+=2\n",
    "    dummy2*=3\n",
    "    \n",
    "    counter += 1\n",
    "    print(counter)\n",
    "    psiOut = np.dot(A,psiIn)\n",
    "    psiOut /= np.linalg.norm(psiOut)\n",
    "    psiOut /= np.max(np.abs(psiOut))\n",
    "    \n",
    "    # Packup\n",
    "    args['dummy']=dummy\n",
    "    args['dummy2']=dummy2\n",
    "    args['counter']=counter\n",
    "    return psiOut - psiIn"
   ]
  }
 ],
 "metadata": {
  "kernelspec": {
   "display_name": "Python 3",
   "language": "python",
   "name": "python3"
  },
  "language_info": {
   "codemirror_mode": {
    "name": "ipython",
    "version": 3
   },
   "file_extension": ".py",
   "mimetype": "text/x-python",
   "name": "python",
   "nbconvert_exporter": "python",
   "pygments_lexer": "ipython3",
   "version": "3.6.8"
  }
 },
 "nbformat": 4,
 "nbformat_minor": 2
}
